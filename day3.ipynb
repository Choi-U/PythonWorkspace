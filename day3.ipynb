{
 "cells": [
  {
   "cell_type": "code",
   "execution_count": 19,
   "metadata": {},
   "outputs": [
    {
     "name": "stdout",
     "output_type": "stream",
     "text": [
      "a\n",
      "a\n",
      "a\n",
      "a\n",
      "a\n",
      "a\n",
      "a\n",
      "a\n",
      "a\n",
      "a\n"
     ]
    }
   ],
   "source": [
    "for i in range(10):\n",
    "    print('a')"
   ]
  },
  {
   "cell_type": "code",
   "execution_count": null,
   "metadata": {},
   "outputs": [],
   "source": [
    "#for i in range()\n",
    "# i=index 변수명 : for 문의 하위문에서 iterable의 한 개의 값을 사용할 때 이용할 변수명\n",
    "# range() = iterable : 반복 가능한 대상\n",
    "#':'을 기준으로 들여써서 하위문을 만든다."
   ]
  },
  {
   "cell_type": "code",
   "execution_count": 18,
   "metadata": {},
   "outputs": [
    {
     "name": "stdout",
     "output_type": "stream",
     "text": [
      "0\n",
      "2\n",
      "4\n"
     ]
    }
   ],
   "source": [
    "for i in range(3):\n",
    "    print(i*2)\n",
    "    "
   ]
  },
  {
   "cell_type": "code",
   "execution_count": 21,
   "metadata": {},
   "outputs": [
    {
     "name": "stdout",
     "output_type": "stream",
     "text": [
      "1\n",
      "3\n",
      "5\n"
     ]
    }
   ],
   "source": [
    "for i in range(1,6,2):\n",
    "    print(i)  \n",
    "\n",
    "#1-6까지 출력하나 2씩 건너뜀"
   ]
  },
  {
   "cell_type": "code",
   "execution_count": 23,
   "metadata": {},
   "outputs": [
    {
     "name": "stdout",
     "output_type": "stream",
     "text": [
      "4번 정상\n"
     ]
    }
   ],
   "source": [
    "for i in range(5):\n",
    "    x=input()\n",
    "    if x=='불량':\n",
    "        continue\n",
    "    \n",
    "print(f'{i}번 정상')"
   ]
  },
  {
   "cell_type": "code",
   "execution_count": 28,
   "metadata": {},
   "outputs": [
    {
     "name": "stdout",
     "output_type": "stream",
     "text": [
      "찬성\n"
     ]
    }
   ],
   "source": [
    "for i in range(5):\n",
    "    boat=input()\n",
    "    if boat=='찬성':\n",
    "        result='찬성'\n",
    "        break\n",
    "    else:\n",
    "        result='반대'\n",
    "\n",
    "print(result)"
   ]
  },
  {
   "cell_type": "code",
   "execution_count": 33,
   "metadata": {},
   "outputs": [
    {
     "name": "stdout",
     "output_type": "stream",
     "text": [
      "0번이 찬성했음\n",
      "결과 : 반대입니다.\n",
      "1번이 찬성했음\n",
      "결과 : 반대입니다.\n",
      "2번이 찬성했음\n",
      "결과 : 반대입니다.\n"
     ]
    }
   ],
   "source": [
    "result='찬성'\n",
    "\n",
    "for i in range(5):\n",
    "    boat=input()\n",
    "    if boat=='찬성':\n",
    "        result='찬성'\n",
    "        break\n",
    "    else:\n",
    "        result='반대'\n",
    "        print(f'{i}번이 찬성했음')\n",
    "\n",
    "    print(f'결과 : {result}입니다.')"
   ]
  },
  {
   "cell_type": "code",
   "execution_count": 41,
   "metadata": {},
   "outputs": [
    {
     "name": "stdout",
     "output_type": "stream",
     "text": [
      "결과는 반대\n"
     ]
    }
   ],
   "source": [
    "# 0 = yesvote += 1\n",
    "# 1 = novote += 1\n",
    "yesvote = 0\n",
    "novote = 0\n",
    "\n",
    "for i in range(5):\n",
    "    vote = input()\n",
    "    if vote == '찬성':\n",
    "        yesvote += 1\n",
    "    elif vote == '반대':\n",
    "        novote += 1\n",
    "\n",
    "if yesvote > novote:\n",
    "    print('결과는 찬성')\n",
    "else :\n",
    "    print('결과는 반대')"
   ]
  },
  {
   "cell_type": "code",
   "execution_count": 35,
   "metadata": {},
   "outputs": [
    {
     "name": "stdout",
     "output_type": "stream",
     "text": [
      "1\n",
      "4\n"
     ]
    }
   ],
   "source": [
    "while True:\n",
    "    n=int(input())\n",
    "    if n ==999:\n",
    "        break\n",
    "    else:\n",
    "        print(n)"
   ]
  },
  {
   "cell_type": "code",
   "execution_count": 43,
   "metadata": {},
   "outputs": [
    {
     "name": "stdout",
     "output_type": "stream",
     "text": [
      "3\n"
     ]
    }
   ],
   "source": [
    "# 함수\n",
    "# 타이핑을 줄이기 위해 사용\n",
    "\n",
    "def add(a:int,b:int):\n",
    "    r=a+b\n",
    "    return r\n",
    "    \n",
    "print(add(1, 2))\n",
    "\n",
    "#add = 함수의 이름\n",
    "# a,b = 인수 리스트\n",
    "#':' = 하위절\n",
    "#r = a + b : 함수에 종속된 하위 실행 코드\n",
    "#return : 함수에서 돌려줄 값을 지정\n",
    "#r = 돌려줄 값"
   ]
  },
  {
   "cell_type": "code",
   "execution_count": 47,
   "metadata": {},
   "outputs": [
    {
     "name": "stdout",
     "output_type": "stream",
     "text": [
      "30\n"
     ]
    }
   ],
   "source": [
    "def times(a,b):\n",
    "    return a*b\n",
    "a,b=map(int, input().split())\n",
    "\n",
    "print(times(a,b))"
   ]
  },
  {
   "cell_type": "code",
   "execution_count": 50,
   "metadata": {},
   "outputs": [
    {
     "name": "stdout",
     "output_type": "stream",
     "text": [
      "-3\n"
     ]
    }
   ],
   "source": [
    "def func1(x):\n",
    "    return x+1\n",
    "def func2(x):\n",
    "    return x*2\n",
    "def func3(x):\n",
    "    return x-3\n",
    "\n",
    "print(func1(func2(func3(1))))"
   ]
  },
  {
   "cell_type": "code",
   "execution_count": 51,
   "metadata": {},
   "outputs": [
    {
     "name": "stdout",
     "output_type": "stream",
     "text": [
      "10\n",
      "9\n",
      "8\n",
      "7\n",
      "6\n",
      "5\n",
      "4\n",
      "3\n",
      "2\n",
      "1\n"
     ]
    }
   ],
   "source": [
    "def CountDown(n):\n",
    "    if n==0:\n",
    "        return\n",
    "    print(n)\n",
    "    CountDown(n-1)\n",
    "CountDown(10)"
   ]
  },
  {
   "cell_type": "code",
   "execution_count": 53,
   "metadata": {},
   "outputs": [
    {
     "name": "stdout",
     "output_type": "stream",
     "text": [
      "None\n"
     ]
    }
   ],
   "source": [
    "def My_big_function():\n",
    "    pass\n",
    "\n",
    "print(My_big_function())"
   ]
  },
  {
   "cell_type": "code",
   "execution_count": null,
   "metadata": {},
   "outputs": [],
   "source": []
  }
 ],
 "metadata": {
  "kernelspec": {
   "display_name": "Python 3.10.8 64-bit (microsoft store)",
   "language": "python",
   "name": "python3"
  },
  "language_info": {
   "codemirror_mode": {
    "name": "ipython",
    "version": 3
   },
   "file_extension": ".py",
   "mimetype": "text/x-python",
   "name": "python",
   "nbconvert_exporter": "python",
   "pygments_lexer": "ipython3",
   "version": "3.10.8"
  },
  "orig_nbformat": 4,
  "vscode": {
   "interpreter": {
    "hash": "7b1f2b33e866b0bf2409397e5f58ba9cdf170d3b7f64c8f359c79998e2f88ad4"
   }
  }
 },
 "nbformat": 4,
 "nbformat_minor": 2
}
