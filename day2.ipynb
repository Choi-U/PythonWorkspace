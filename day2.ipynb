{
 "cells": [
  {
   "cell_type": "code",
   "execution_count": null,
   "metadata": {},
   "outputs": [],
   "source": [
    "#문자열과 제어문"
   ]
  },
  {
   "cell_type": "code",
   "execution_count": 9,
   "metadata": {},
   "outputs": [
    {
     "name": "stdout",
     "output_type": "stream",
     "text": [
      "2\n"
     ]
    }
   ],
   "source": [
    "#count()\n",
    "\n",
    "print('Hello World'.count('o'))"
   ]
  },
  {
   "cell_type": "code",
   "execution_count": 3,
   "metadata": {},
   "outputs": [
    {
     "name": "stdout",
     "output_type": "stream",
     "text": [
      "True\n"
     ]
    }
   ],
   "source": [
    "print('a' in 'abc')"
   ]
  },
  {
   "cell_type": "code",
   "execution_count": 4,
   "metadata": {},
   "outputs": [
    {
     "name": "stdout",
     "output_type": "stream",
     "text": [
      "True\n"
     ]
    }
   ],
   "source": [
    "print('개' in '개벌레')"
   ]
  },
  {
   "cell_type": "code",
   "execution_count": 8,
   "metadata": {},
   "outputs": [
    {
     "name": "stdout",
     "output_type": "stream",
     "text": [
      "False\n"
     ]
    }
   ],
   "source": [
    "Email=input()\n",
    "\n",
    "print('@' in Email)"
   ]
  },
  {
   "cell_type": "code",
   "execution_count": 10,
   "metadata": {},
   "outputs": [
    {
     "name": "stdout",
     "output_type": "stream",
     "text": [
      "h\n",
      "e\n",
      "l\n",
      "l\n",
      "o\n"
     ]
    }
   ],
   "source": [
    "# list slicing\n",
    "\n",
    "s='hello'\n",
    "print(s[0])\n",
    "print(s[1])\n",
    "print(s[2])\n",
    "print(s[3])\n",
    "print(s[4])"
   ]
  },
  {
   "cell_type": "code",
   "execution_count": 12,
   "metadata": {},
   "outputs": [
    {
     "name": "stdout",
     "output_type": "stream",
     "text": [
      "n\n"
     ]
    }
   ],
   "source": [
    "s='python'\n",
    "print(s[-1])"
   ]
  },
  {
   "cell_type": "code",
   "execution_count": 13,
   "metadata": {},
   "outputs": [
    {
     "name": "stdout",
     "output_type": "stream",
     "text": [
      "1\n"
     ]
    }
   ],
   "source": [
    "s='012'\n",
    "print(s[-2])"
   ]
  },
  {
   "cell_type": "code",
   "execution_count": 15,
   "metadata": {},
   "outputs": [
    {
     "name": "stdout",
     "output_type": "stream",
     "text": [
      "0\n",
      "3\n"
     ]
    }
   ],
   "source": [
    "# index()\n",
    "\n",
    "s='abcdefg'\n",
    "\n",
    "print(s.index('a'))\n",
    "print(s.index('d'))"
   ]
  },
  {
   "cell_type": "code",
   "execution_count": 17,
   "metadata": {},
   "outputs": [
    {
     "name": "stdout",
     "output_type": "stream",
     "text": [
      "7\n"
     ]
    }
   ],
   "source": [
    "s='abcdefg'\n",
    "\n",
    "if 'h' in s :\n",
    "    print(s.index('h'))"
   ]
  },
  {
   "cell_type": "code",
   "execution_count": 18,
   "metadata": {},
   "outputs": [
    {
     "name": "stdout",
     "output_type": "stream",
     "text": [
      "010\n"
     ]
    }
   ],
   "source": [
    "# s[start, stop, step]\n",
    "\n",
    "print('010-1234-5678'[0:3])"
   ]
  },
  {
   "cell_type": "code",
   "execution_count": 21,
   "metadata": {},
   "outputs": [
    {
     "name": "stdout",
     "output_type": "stream",
     "text": [
      "0-358\n"
     ]
    }
   ],
   "source": [
    "print('010-1234-5678'[::3])"
   ]
  },
  {
   "cell_type": "code",
   "execution_count": 23,
   "metadata": {},
   "outputs": [
    {
     "name": "stdout",
     "output_type": "stream",
     "text": [
      "1234\n"
     ]
    }
   ],
   "source": [
    "print('010-1234-5678'[4:8])"
   ]
  },
  {
   "cell_type": "code",
   "execution_count": 30,
   "metadata": {},
   "outputs": [
    {
     "name": "stdout",
     "output_type": "stream",
     "text": [
      "cba\n"
     ]
    }
   ],
   "source": [
    "s='abc'\n",
    "reversed_s=s[::-1]\n",
    "print (reversed_s)"
   ]
  },
  {
   "cell_type": "code",
   "execution_count": 31,
   "metadata": {},
   "outputs": [
    {
     "name": "stdout",
     "output_type": "stream",
     "text": [
      "릭타스리칼아리렐이터스마\n"
     ]
    }
   ],
   "source": [
    "s='마스터이렐리아칼리스타릭'\n",
    "print(s[::-1])"
   ]
  },
  {
   "cell_type": "code",
   "execution_count": 35,
   "metadata": {},
   "outputs": [
    {
     "name": "stdout",
     "output_type": "stream",
     "text": [
      "12짝456789\n"
     ]
    }
   ],
   "source": [
    "s='123456789'\n",
    "print(s.replace('3', '짝'))"
   ]
  },
  {
   "cell_type": "code",
   "execution_count": 41,
   "metadata": {},
   "outputs": [],
   "source": [
    "l=[]\n",
    "for i in range(10):\n",
    "    l.append(i+1)\n",
    "\n",
    "for i in l:\n",
    "    if '3' in l:\n",
    "        print(l[i].replace(l[i], '짝'))"
   ]
  },
  {
   "cell_type": "code",
   "execution_count": 43,
   "metadata": {},
   "outputs": [
    {
     "name": "stdout",
     "output_type": "stream",
     "text": [
      "99000\n"
     ]
    }
   ],
   "source": [
    "s='99,000'\n",
    "s=s.replace(',','')\n",
    "print(s)"
   ]
  },
  {
   "cell_type": "code",
   "execution_count": 47,
   "metadata": {},
   "outputs": [
    {
     "name": "stdout",
     "output_type": "stream",
     "text": [
      "True\n"
     ]
    }
   ],
   "source": [
    "s='01012345678'\n",
    "q='010-1234-5678'\n",
    "s=s.replace('-','')\n",
    "q=s.replace('-','')\n",
    "print(s==q)"
   ]
  },
  {
   "cell_type": "code",
   "execution_count": 50,
   "metadata": {},
   "outputs": [
    {
     "name": "stdout",
     "output_type": "stream",
     "text": [
      "CHOIU\n",
      "CHOIU\n",
      "choiu\n",
      "choiu\n"
     ]
    }
   ],
   "source": [
    "User='ChoiU'\n",
    "NewUser='choiu'\n",
    "\n",
    "print(User.upper())\n",
    "print(NewUser.upper())\n",
    "print(NewUser.lower())\n",
    "print(NewUser.lower())"
   ]
  },
  {
   "cell_type": "code",
   "execution_count": 55,
   "metadata": {},
   "outputs": [
    {
     "name": "stdout",
     "output_type": "stream",
     "text": [
      "이미 있는 이름\n"
     ]
    }
   ],
   "source": [
    "olduser=['ABC', 'ddc']\n",
    "NewUser='abc'\n",
    "\n",
    "count=0\n",
    "for i in olduser:\n",
    "    if i.upper() == NewUser.upper():\n",
    "        print(\"이미 있는 이름\")\n",
    "        count+=1\n",
    "if count ==0:\n",
    "    print('성공적으로 계정이 생성됨')"
   ]
  },
  {
   "cell_type": "code",
   "execution_count": 56,
   "metadata": {},
   "outputs": [
    {
     "name": "stdout",
     "output_type": "stream",
     "text": [
      "a는  1 이고 b는  2 이다.\n"
     ]
    }
   ],
   "source": [
    "# f-sting\n",
    "\n",
    "a=1\n",
    "b=2\n",
    "\n",
    "print('a는 ',a,'이고 b는 ',b,'이다.')"
   ]
  },
  {
   "cell_type": "code",
   "execution_count": 58,
   "metadata": {},
   "outputs": [
    {
     "name": "stdout",
     "output_type": "stream",
     "text": [
      "a는 1이고 b는 2이다.\n"
     ]
    }
   ],
   "source": [
    "print(f'a는 {a}이고 b는 {b}이다.')"
   ]
  },
  {
   "cell_type": "code",
   "execution_count": 61,
   "metadata": {},
   "outputs": [
    {
     "name": "stdout",
     "output_type": "stream",
     "text": [
      "3.141592654\n"
     ]
    }
   ],
   "source": [
    "py=3.1415926535897932\n",
    "print(f'{py:.9f}')"
   ]
  },
  {
   "cell_type": "code",
   "execution_count": 64,
   "metadata": {},
   "outputs": [
    {
     "name": "stdout",
     "output_type": "stream",
     "text": [
      "1.0\n",
      "1\n"
     ]
    }
   ],
   "source": [
    "print(int(a*100)/100)"
   ]
  },
  {
   "cell_type": "code",
   "execution_count": 68,
   "metadata": {},
   "outputs": [
    {
     "name": "stdout",
     "output_type": "stream",
     "text": [
      "ff00\n",
      "FF00\n",
      "177400\n",
      "1111111100000000\n"
     ]
    }
   ],
   "source": [
    "x=65280\n",
    "\n",
    "print(f'{x:x}')\n",
    "print(f'{x:X}')\n",
    "print(f'{x:o}')\n",
    "print(f'{x:b}')"
   ]
  },
  {
   "cell_type": "code",
   "execution_count": 74,
   "metadata": {},
   "outputs": [
    {
     "name": "stdout",
     "output_type": "stream",
     "text": [
      "* ** *** **** ***** ****** ******* ******** ********* "
     ]
    }
   ],
   "source": [
    "for i in range(int(input())):\n",
    "    print('*' * (i+1))"
   ]
  },
  {
   "cell_type": "code",
   "execution_count": 78,
   "metadata": {},
   "outputs": [
    {
     "name": "stdout",
     "output_type": "stream",
     "text": [
      "아이스크림\n"
     ]
    }
   ],
   "source": [
    "temprtature = 31\n",
    "if temprtature >= 30:\n",
    "    print('아이스크림')\n",
    "else :\n",
    "    print('핫초코')"
   ]
  },
  {
   "cell_type": "code",
   "execution_count": 79,
   "metadata": {},
   "outputs": [
    {
     "name": "stdout",
     "output_type": "stream",
     "text": [
      "ice\n"
     ]
    }
   ],
   "source": [
    "if :\n",
    "    print('ice')\n",
    "elif :\n",
    "    print('hot')\n",
    "else :\n",
    "    print('cup')"
   ]
  },
  {
   "cell_type": "code",
   "execution_count": 82,
   "metadata": {},
   "outputs": [],
   "source": [
    "if 1==0:\n",
    "    print('zero')"
   ]
  },
  {
   "cell_type": "code",
   "execution_count": 83,
   "metadata": {},
   "outputs": [
    {
     "name": "stdout",
     "output_type": "stream",
     "text": [
      "False\n",
      "True\n",
      "False\n",
      "True\n",
      "False\n"
     ]
    }
   ],
   "source": [
    "print(1%2==0)\n",
    "print(2%2==0)\n",
    "print(3%2==0)\n",
    "print(4%2==0)\n",
    "print(5%2==0)"
   ]
  },
  {
   "cell_type": "code",
   "execution_count": 87,
   "metadata": {},
   "outputs": [
    {
     "name": "stdout",
     "output_type": "stream",
     "text": [
      "홀수\n",
      "짝수\n",
      "홀수\n"
     ]
    }
   ],
   "source": [
    "if int(input())%2==1:\n",
    "    print('홀수')\n",
    "else:print('짝수')\n",
    "if int(input())%2==1:\n",
    "    print('홀수')\n",
    "else:print('짝수')\n",
    "if int(input())%2==1:\n",
    "    print('홀수')\n",
    "else:print('짝수')"
   ]
  },
  {
   "cell_type": "code",
   "execution_count": 91,
   "metadata": {},
   "outputs": [
    {
     "name": "stdout",
     "output_type": "stream",
     "text": [
      "0\n"
     ]
    }
   ],
   "source": [
    "s = int(input())\n",
    "\n",
    "if s>0:\n",
    "    print('+')\n",
    "elif s<0:\n",
    "    print('-')\n",
    "else :\n",
    "    print(0)"
   ]
  },
  {
   "cell_type": "code",
   "execution_count": 94,
   "metadata": {},
   "outputs": [
    {
     "name": "stdout",
     "output_type": "stream",
     "text": [
      "핫초코 작은 사이즈 주문 받음\n"
     ]
    }
   ],
   "source": [
    "# menu : 레몬에이드, 핫초코\n",
    "# size : 큰 사이즈, 작은 사이즈\n",
    "\n",
    "menu=input()\n",
    "size=input()\n",
    "\n",
    "if menu=='레몬에이드':\n",
    "    if size=='큰 사이즈':\n",
    "        print('레몬에이드 큰 사이즈 주문 받음')\n",
    "    else:\n",
    "        print('레몬에이드 작은 사이즈 주문 받음')\n",
    "if menu=='핫초코':\n",
    "    if size=='큰 사이즈':\n",
    "        print('핫초코 큰 사이즈 주문 받음')\n",
    "    else:\n",
    "        print('핫초코 작은 사이즈 주문 받음')"
   ]
  },
  {
   "cell_type": "code",
   "execution_count": 95,
   "metadata": {},
   "outputs": [],
   "source": [
    "n = int(input())\n",
    "\n",
    "if n < 1000 :\n",
    "  if  n % 2 == 0 :\n",
    "    if n % 3 == 0 :\n",
    "       if n % 5 == 0 :\n",
    "         if n % 7 == 0 :\n",
    "           print('1000보다 작고 2와 3과 5, 7의 공배수', n)\n",
    "#if hell(jargon) 이라고 한다.\n",
    "#if hell에 빠지지 않도록 코드를 짜는 것이 좋다."
   ]
  },
  {
   "cell_type": "code",
   "execution_count": 97,
   "metadata": {},
   "outputs": [
    {
     "name": "stdout",
     "output_type": "stream",
     "text": [
      "핫초코 큰 사이즈 주문받았습니다.\n"
     ]
    }
   ],
   "source": [
    "# menu : 레몬에이드, 핫초코\n",
    "# size : 큰 사이즈, 작은 사이즈\n",
    "\n",
    "menu = input()\n",
    "size = input()\n",
    "p = ''\n",
    "\n",
    "if menu == '레모네이드':\n",
    "    p = '레모네이드'\n",
    "else :\n",
    "    p = '핫초코'\n",
    "\n",
    "if size == '큰 사이즈':\n",
    "    p += ' 큰 사이즈 주문받았습니다.'\n",
    "else :\n",
    "    p += ' 작은 사이즈 주문받았습니다.'\n",
    "\n",
    "print(p)"
   ]
  },
  {
   "cell_type": "code",
   "execution_count": 104,
   "metadata": {},
   "outputs": [
    {
     "name": "stdout",
     "output_type": "stream",
     "text": [
      "과체중\n"
     ]
    }
   ],
   "source": [
    "hight=178/100\n",
    "weight=81\n",
    "\n",
    "i=weight/(hight * hight)\n",
    "\n",
    "if 1>=30:\n",
    "    print('비만')\n",
    "elif i>=23:\n",
    "    print('과체중')\n",
    "elif i<=18.5:\n",
    "    print('정상')\n",
    "else:\n",
    "    print('저체중')"
   ]
  },
  {
   "cell_type": "code",
   "execution_count": null,
   "metadata": {},
   "outputs": [],
   "source": []
  }
 ],
 "metadata": {
  "kernelspec": {
   "display_name": "Python 3.10.8 64-bit (microsoft store)",
   "language": "python",
   "name": "python3"
  },
  "language_info": {
   "codemirror_mode": {
    "name": "ipython",
    "version": 3
   },
   "file_extension": ".py",
   "mimetype": "text/x-python",
   "name": "python",
   "nbconvert_exporter": "python",
   "pygments_lexer": "ipython3",
   "version": "3.10.8"
  },
  "orig_nbformat": 4,
  "vscode": {
   "interpreter": {
    "hash": "7b1f2b33e866b0bf2409397e5f58ba9cdf170d3b7f64c8f359c79998e2f88ad4"
   }
  }
 },
 "nbformat": 4,
 "nbformat_minor": 2
}
